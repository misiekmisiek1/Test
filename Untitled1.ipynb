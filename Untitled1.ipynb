{
 "cells": [
  {
   "cell_type": "code",
   "execution_count": 39,
   "metadata": {},
   "outputs": [
    {
     "name": "stdout",
     "output_type": "stream",
     "text": [
      "Status: Optimal\n",
      "Krzeselko_ilosc = 10.0\n",
      "szafeczka_ilosc = 0.0\n",
      "Total Cost of Ingredients per can =  317500.0\n"
     ]
    }
   ],
   "source": [
    "\"\"\"\n",
    "The Simplified Whiskas Model Python Formulation for the PuLP Modeller\n",
    "\n",
    "Authors: Antony Phillips, Dr Stuart Mitchell  2007\n",
    "\"\"\"\n",
    "\n",
    "# Import PuLP modeler functions\n",
    "from pulp import *\n",
    "\n",
    "# Create the 'prob' variable to contain the problem data\n",
    "prob = LpProblem(\"The Problem\",LpMaximize)\n",
    "\n",
    "# The 2 variables Beef and Chicken are created with a lower limit of zero\n",
    "x1=LpVariable(\"Krzeselko-ilosc\",0,None,LpInteger)\n",
    "x2=LpVariable(\"szafeczka-ilosc\",0,None,LpInteger)\n",
    "#x3=LpVariable(\"placa inzyniera\",0)\n",
    "#x4=LpVariable(\"placa lakiernika\",0)\n",
    "#x5=LpVariable(\"placa robotow\",0)\n",
    "\n",
    "x6=2;#LpVariable(\"ilosc inzyniera\",0,10,LpInteger)\n",
    "x7=1;#LpVariable(\"ilosc lakiernikow\",0,20,LpInteger)\n",
    "x8=1;#LpVariable(\"ilosc robotow\",0,10,LpInteger)\n",
    "\n",
    "x3=700;\n",
    "x4=1500;\n",
    "x5=300;\n",
    "\n",
    "x9=LpVariable(\"dni_inż\",0,30,LpInteger)\n",
    "x10=LpVariable(\"dni_lak\",0,21,LpInteger)\n",
    "x11=LpVariable(\"dni_robo\",0,30,LpInteger)\n",
    "\n",
    "# The objective function is added to 'prob' first\n",
    "prob += 40000*x1 + 50000*x2 - (x3*x6 + x4*x7 + x5*x8), \"Total Cost of Ingredients per can\"\n",
    "\n",
    "# Th2e five constraints are entered\n",
    "prob += 6*x1 + 0*x2 <= 21*x7, \"P1\"\n",
    "prob += 5*x1 + 6*x2 <= 30*x6, \"inzynier/robotyk\"\n",
    "prob += 3*x1 + 4*x2 <= 30*x8, \"robot\"\n",
    "\n",
    "# The problem data is written to an .lp file\n",
    "prob.writeLP(\"Model.lp\")\n",
    "\n",
    "# The problem is solved using PuLP's choice of Solver\n",
    "prob.solve()\n",
    "\n",
    "# The status of the solution is printed to the screen\n",
    "print (\"Status:\", LpStatus[prob.status])\n",
    "\n",
    "# Each of the variables is printed with it's resolved optimum value\n",
    "for v in prob.variables():\n",
    "    print (v.name, \"=\", v.varValue)\n",
    "    \n",
    "# The optimised objective function value is printed to the screen\n",
    "print (\"Total Cost of Ingredients per can = \", value(prob.objective))\n",
    "\n"
   ]
  },
  {
   "cell_type": "code",
   "execution_count": null,
   "metadata": {},
   "outputs": [],
   "source": []
  },
  {
   "cell_type": "code",
   "execution_count": null,
   "metadata": {},
   "outputs": [],
   "source": []
  },
  {
   "cell_type": "code",
   "execution_count": null,
   "metadata": {},
   "outputs": [],
   "source": []
  }
 ],
 "metadata": {
  "kernelspec": {
   "display_name": "Python 3",
   "language": "python",
   "name": "python3"
  },
  "language_info": {
   "codemirror_mode": {
    "name": "ipython",
    "version": 3
   },
   "file_extension": ".py",
   "mimetype": "text/x-python",
   "name": "python",
   "nbconvert_exporter": "python",
   "pygments_lexer": "ipython3",
   "version": "3.6.6"
  }
 },
 "nbformat": 4,
 "nbformat_minor": 2
}
